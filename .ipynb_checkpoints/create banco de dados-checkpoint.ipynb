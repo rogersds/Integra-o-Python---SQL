{
 "cells": [
  {
   "cell_type": "markdown",
   "metadata": {},
   "source": [
    "# Desafio Python e SQL\n",
    "\n",
    "### Create"
   ]
  },
  {
   "cell_type": "code",
   "execution_count": 1,
   "metadata": {},
   "outputs": [],
   "source": [
    "import pyodbc\n",
    "\n",
    "dados_conexao = ('Driver={SQLite3 ODBC Driver}; Servidor=localhost;Database=chinook.db')\n",
    "\n",
    "\n",
    "conexao = pyodbc.connect(dados_conexao)\n",
    "\n",
    "cursor = conexao.cursor()"
   ]
  },
  {
   "cell_type": "code",
   "execution_count": 3,
   "metadata": {
    "scrolled": true
   },
   "outputs": [
    {
     "ename": "ProgrammingError",
     "evalue": "Attempt to use a closed cursor.",
     "output_type": "error",
     "traceback": [
      "\u001b[1;31m---------------------------------------------------------------------------\u001b[0m",
      "\u001b[1;31mProgrammingError\u001b[0m                          Traceback (most recent call last)",
      "Cell \u001b[1;32mIn[3], line 4\u001b[0m\n\u001b[0;32m      1\u001b[0m \u001b[38;5;66;03m# criando uma info no banco de dados \u001b[39;00m\n\u001b[0;32m      2\u001b[0m \n\u001b[0;32m      3\u001b[0m \u001b[38;5;66;03m# COMMIT vai perpetuar(efetivar) suas mudanças \u001b[39;00m\n\u001b[1;32m----> 4\u001b[0m \u001b[43mcursor\u001b[49m\u001b[38;5;241;43m.\u001b[39;49m\u001b[43mexecute\u001b[49m\u001b[43m(\u001b[49m\u001b[38;5;124;43m\"\"\"\u001b[39;49m\n\u001b[0;32m      5\u001b[0m \u001b[38;5;124;43mINSERT INTO albums (Title, ArtistId)\u001b[39;49m\n\u001b[0;32m      6\u001b[0m \u001b[38;5;124;43mVALUES\u001b[39;49m\n\u001b[0;32m      7\u001b[0m \u001b[38;5;124;43m(\u001b[39;49m\u001b[38;5;124;43m'\u001b[39;49m\u001b[38;5;124;43mRoger Rock\u001b[39;49m\u001b[38;5;124;43m'\u001b[39;49m\u001b[38;5;124;43m, 4)\u001b[39;49m\n\u001b[0;32m      8\u001b[0m \u001b[38;5;124;43m\"\"\"\u001b[39;49m\u001b[43m)\u001b[49m\n\u001b[0;32m      9\u001b[0m \u001b[38;5;66;03m# aparece no fi nal da tabela albums\u001b[39;00m\n\u001b[0;32m     10\u001b[0m cursor\u001b[38;5;241m.\u001b[39mcommit()\n",
      "\u001b[1;31mProgrammingError\u001b[0m: Attempt to use a closed cursor."
     ]
    }
   ],
   "source": [
    "# criando uma info no banco de dados \n",
    "\n",
    "# COMMIT vai perpetuar(efetivar) suas mudanças \n",
    "cursor.execute(\"\"\"\n",
    "INSERT INTO albums (Title, ArtistId)\n",
    "VALUES\n",
    "('Roger Rock', 4)\n",
    "\"\"\")\n",
    "# aparece no fi nal da tabela albums\n",
    "cursor.commit()\n",
    "\n",
    "cursor.close()\n",
    "\n"
   ]
  },
  {
   "cell_type": "code",
   "execution_count": 4,
   "metadata": {},
   "outputs": [],
   "source": [
    "conexao.close()"
   ]
  },
  {
   "cell_type": "code",
   "execution_count": null,
   "metadata": {},
   "outputs": [],
   "source": []
  }
 ],
 "metadata": {
  "kernelspec": {
   "display_name": "Python 3 (ipykernel)",
   "language": "python",
   "name": "python3"
  },
  "language_info": {
   "codemirror_mode": {
    "name": "ipython",
    "version": 3
   },
   "file_extension": ".py",
   "mimetype": "text/x-python",
   "name": "python",
   "nbconvert_exporter": "python",
   "pygments_lexer": "ipython3",
   "version": "3.10.9"
  }
 },
 "nbformat": 4,
 "nbformat_minor": 4
}
